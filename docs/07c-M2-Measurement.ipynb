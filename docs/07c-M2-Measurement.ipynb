{
 "cells": [
  {
   "cell_type": "markdown",
   "metadata": {},
   "source": [
    "# $M^2$ Measurements\n",
    "\n",
    "**Scott Prahl**\n",
    "\n",
    "**June 2020, version 3**"
   ]
  },
  {
   "cell_type": "code",
   "execution_count": 1,
   "metadata": {},
   "outputs": [],
   "source": [
    "%matplotlib inline\n",
    "import imageio\n",
    "import numpy as np\n",
    "import numpy.polynomial.polynomial as poly\n",
    "import matplotlib.pyplot as plt\n",
    "\n",
    "import laserbeamsize as lbs\n",
    "\n",
    "def z_rayleigh(w0,lambda0):\n",
    "    \"\"\"\n",
    "    Return the Rayleigh distance.\n",
    "    Args:\n",
    "        w0 : minimum beam radius [m]\n",
    "        lambda0: wavelength of light [m]\n",
    "    Returns:\n",
    "        distance where irradiance drops by 1/2 [m]\n",
    "    \"\"\"\n",
    "    return np.pi * w0**2/lambda0\n",
    "\n",
    "\n",
    "def beam_radius(w0,M2,lambda0,z,z0=0,model='laboratory'):\n",
    "    \"\"\"\n",
    "    Return the beam radius at an axial location.\n",
    "    \n",
    "    \n",
    "    Args:\n",
    "        w0 : minimum beam radius [m]\n",
    "        z0 : axial location of beam waist [m]\n",
    "        M2 : beam propagation factor [-]\n",
    "        lambda0: wavelength of light [m]\n",
    "        z : axial location of desired beam radius [m]\n",
    "    Returns:\n",
    "        Beam radius [m]\n",
    "    \"\"\"\n",
    "    zz = (z-z0)/z_rayleigh(w0,lambda0)\n",
    "    \n",
    "    if model == 'illuminator' or model == 'constant waist':\n",
    "        return w0*np.sqrt(1+(M2*zz)**2)\n",
    "\n",
    "    if model == 'laboratory' or model == 'constant divergence':\n",
    "        return w0*np.sqrt(M2**2+zz**2)\n",
    "\n",
    "    return w0*M2*np.sqrt(1+zz**2)\n",
    "\n",
    "def focused_diameter(f,lambda0,d, M2=1):\n",
    "    \"\"\"\n",
    "    Return the diameter of diffraction-limited focused beam.\n",
    "     Args:\n",
    "        f : focal length of lens [m]\n",
    "        lambda0: wavelength of light [m]\n",
    "        d : diameter of limiting aperture [m]\n",
    "        M2: beam propagation factor\n",
    "    Returns:\n",
    "        Beam diameter [m]\n",
    "    \"\"\"\n",
    "    return 2 * lambda0 * M2 * f / d\n",
    "\n",
    "pixel_size_mm = 3.75/1000           # pixel size in mm for the camera\n",
    "\n",
    "\n",
    "def M2_analysis(z,d,lambda0):\n",
    "\n",
    "    zz = np.linspace(0,1000,50)\n",
    "    a, b, c = poly.polyfit(z, d, 2)\n",
    "    z0 = -b/(2*c)\n",
    "    M2 = np.pi/8/lambda0*np.sqrt(4*a*c-b*b)\n",
    "    Theta0 = np.sqrt(c)/2\n",
    "    w0 = np.sqrt((4*a*c-b*b)/(4*c))/2\n",
    "    zR = np.sqrt((4*a*c-b*b)/(4*c*c))\n",
    "\n",
    "    print(\"M2    = %.2f\" % M2)\n",
    "    print(\"w0    = %.2f mm\"% w0)\n",
    "    print(\"Theta = %.2f milliradians\" % (1000*Theta0))\n",
    "    print(\"zR    = %.0f mm\"% zR)\n",
    "    print(\"z0    = %.0f mm\" % z0)\n",
    "\n",
    "    ffit = a + b * zz + c * zz**2\n",
    "    plt.plot(zz, ffit/2,':k')\n",
    "    plt.plot(zz, -ffit/2,':k')\n",
    "\n",
    "    plt.plot(z,d/2,'ob',markersize=2)\n",
    "    plt.plot(z,-d/2,'ob',markersize=2)\n",
    "\n",
    "    plt.axvline(z0)\n",
    "    plt.axvline(z0-zR)\n",
    "\n",
    "    plt.axhline(w0)\n",
    "    plt.axhline(-w0)\n",
    "\n",
    "    plt.show()\n",
    "    return M2, w0, Theta0, z0, zR\n"
   ]
  },
  {
   "cell_type": "markdown",
   "metadata": {},
   "source": [
    "## ISO11146 definition of $M^2$\n",
    "\n",
    "When one has experimental values for the beam diameters at different axial locations $z$, it is natural to express the beam size as a function of position in terms of the measured values (instead of using an unknown reference beam).  If $d_\\sigma(z)$ is the beam diameter measured using the ISO 11164 method at an axial location $z$, then the general expression for the real beam diameter is\n",
    "\n",
    "$$\n",
    "d^2_\\sigma(z) = d^2_\\sigma(z_0) + M^4 \\left(\\frac{2\\lambda}{\\pi d_\\sigma(z_0)}\\right)^2 (z-z_0)^2\n",
    "$$\n",
    "\n",
    "The ISO standard suggests fitting\n",
    "\n",
    "$$\n",
    "d^2_\\sigma(z) = a + bz + cz^2\n",
    "$$\n",
    "\n",
    "The location of beam waist is\n",
    "\n",
    "$$\n",
    "z_0 = -\\frac{b}{2c}\n",
    "$$\n",
    "\n",
    "The diameter of beam waist is\n",
    "\n",
    "$$\n",
    "d_\\sigma(z_0) = \\sqrt{\\frac{4ac-b^2}{4c}}\n",
    "$$\n",
    "\n",
    "The divergence of the beam is\n",
    "\n",
    "$$\n",
    "\\Theta = \\sqrt{c}\n",
    "$$\n",
    "\n",
    "The Rayleigh range is\n",
    "\n",
    "$$\n",
    "z_R = \\sqrt{\\frac{4ac-b^2}{4c^2}}\n",
    "$$\n",
    "\n",
    "and the beam propagation factor as\n",
    "\n",
    "$$\n",
    "M^2 = \\frac{\\pi}{8\\lambda}\\sqrt{4ac-b^2}\n",
    "$$"
   ]
  },
  {
   "cell_type": "markdown",
   "metadata": {},
   "source": [
    "### Elliptical Beams\n",
    "\n",
    "For an elliptical beam, the Rayleigh distance will differ in each case (because the beam waists have different sizes).  Thus\n",
    "\n",
    "$$\n",
    "w_x^2(z) = w_{0x}^2\\left[1 + \\left(M_x^2\\cdot\\frac{z-z_0}{z_{Rx}} \\right)^2\\right]\n",
    "$$\n",
    "\n",
    "and\n",
    "\n",
    "$$\n",
    "w_y^2(z) = w_{0y}^2\\left[1 + \\left(M_y^2\\cdot\\frac{z-z_0}{z_{Ry}} \\right)^2\\right]\n",
    "$$\n",
    "\n",
    "and there will be different $M^2$ values on the major and minor axes of the elliptical beam shape."
   ]
  },
  {
   "cell_type": "markdown",
   "metadata": {},
   "source": [
    "## Diffraction-Limited Beam\n",
    "\n",
    "If the focal length of the focusing lens is $f$, then the wavelength and limiting aperture will determine the minimum diameter of focused beam.  For a Gaussian beam, the radius will be approximately\n",
    "$$\n",
    "w_0 = {1.44 \\lambda f \\over  d}\n",
    "$$\n",
    "where $d$ is the beam diameter at the lens (the lens diameter is usually much bigger than the beam and is not the limiting aperture). \n"
   ]
  },
  {
   "cell_type": "markdown",
   "metadata": {},
   "source": [
    "## Experimental Concerns"
   ]
  },
  {
   "cell_type": "markdown",
   "metadata": {},
   "source": [
    "### Measure the beam at the right places along its path\n",
    "\n",
    "The ISO 11146-1 document, [Lasers and laser-related equipment - Test methods for laser beam widths, divergence angles and beam propagation, Part 1: Stigmatic and simple astigmatic beams](https://www.iso.org/obp/ui/#iso:std:iso:11146:-1:ed-1:v1:en) gives specific instructions for how to measure the $M^2$ value.\n",
    "\n",
    "> If the beam waist is accessible for direct measurement, the beam waist location, beam widths, divergence angles and beam propagation ratios shall be determined by a hyperbolic fit to different measurements of the beam width along the propagation axis $z$. Hence, measurements at at least 10 different $z$ positions shall be taken. Approximately half of the measurements shall be distributed within one Rayleigh length on either side of the beam waist, and approximately half of them shall be distributed beyond two Rayleigh lengths from the beam waist. For simple astigmatic beams this procedure shall be applied separately for both principal directions.\n",
    "\n",
    "The Rayleigh distance is directly related the to focal length of the lens:"
   ]
  },
  {
   "cell_type": "code",
   "execution_count": 2,
   "metadata": {},
   "outputs": [
    {
     "data": {
      "image/png": "[encoded data removed]",
      "text/plain": [
       "<Figure size 432x288 with 1 Axes>"
      ]
     },
     "metadata": {
      "needs_background": "light"
     },
     "output_type": "display_data"
    }
   ],
   "source": [
    "focal = np.linspace(50,300,100) #mm\n",
    "d = 1 #mm\n",
    "lambdaa = 632.8e-6 #mm\n",
    "\n",
    "# expected radius for gaussian beam\n",
    "w_gaussian = focused_diameter(focal,lambdaa,d)/2\n",
    "\n",
    "plt.plot(focal,z_rayleigh(w_gaussian,lambdaa))\n",
    "plt.xlabel(\"Focal Length of Focusing Lens [mm]\")\n",
    "plt.ylabel(\"Rayleigh Distance [mm]\")\n",
    "plt.title('%.1f mm Gaussian HeNe beam'%d)\n",
    "plt.show()"
   ]
  },
  {
   "cell_type": "markdown",
   "metadata": {},
   "source": [
    "### Make sure that the beam spot is large enough\n",
    "\n",
    "The focal length $f$ of focusing lens will determine the minimum diameter of focused beam.  For a Gaussian beam, the radius will be\n",
    "\n",
    "$$\n",
    "w_0 = \\frac{1.44 \\lambda f }{  d}\n",
    "$$\n",
    "\n",
    "where $d$ is the beam diameter on the lens.  This spot size should cover a significant number of pixels.\n",
    "\n",
    "Furthermore, to avoid spherical aberrations we would like to ensure that the f-number, defined as the lens focal length in mm divided by the beam diameter at the lens in mm is at least 10, and preferably over 20. see http://www-ferp.ucsd.edu/LASERLAB/TUTOR/m2.html\n",
    "\n",
    "As can be seen below, for longer focal length lenses, this is not an issue."
   ]
  },
  {
   "cell_type": "code",
   "execution_count": 3,
   "metadata": {},
   "outputs": [
    {
     "data": {
      "image/png": "[encoded data removed]",
      "text/plain": [
       "<Figure size 720x216 with 2 Axes>"
      ]
     },
     "metadata": {
      "needs_background": "light"
     },
     "output_type": "display_data"
    }
   ],
   "source": [
    "focal = np.linspace(25,300,100) #mm\n",
    "d = 1 #mm\n",
    "lambda0 = 632.8e-6 #mm\n",
    "\n",
    "fig, ax = plt.subplots(1,2,figsize=(10,3))\n",
    "plt.subplot(1,2,1)\n",
    "plt.plot(focal,focused_diameter(focal,lambda0,d)/pixel_size_mm)\n",
    "\n",
    "plt.xlabel(\"Focal Length of Focusing Lens [mm]\")\n",
    "plt.ylabel(\"Beam diameter at focus [pixels]\")\n",
    "plt.title('%.1f mm HeNe beam'%d)\n",
    "\n",
    "plt.subplot(1,2,2)\n",
    "plt.plot(focal,focal/d)\n",
    "\n",
    "plt.xlabel(\"Focal Length of Focusing Lens [mm]\")\n",
    "plt.ylabel(\"f-number [-]\")\n",
    "plt.title('%.1f mm HeNe beam'%d)\n",
    "\n",
    "plt.show()"
   ]
  },
  {
   "cell_type": "markdown",
   "metadata": {},
   "source": [
    "### Make sure that background is dark\n",
    "\n",
    "Determining the center and diameter of an image with a lot of background is fraught with error.  Do what you can to minimize light on the camera sensor.  \n",
    "\n",
    "### Make sure your camera sensor is not saturated\n",
    "\n",
    "All bets are off when the measured beam is saturated.  There is no way to know if the maximum was 2, 10, or even 100 times as large as the measured values."
   ]
  },
  {
   "cell_type": "code",
   "execution_count": 4,
   "metadata": {},
   "outputs": [
    {
     "name": "stdout",
     "output_type": "stream",
     "text": [
      "M2    = 1.24\n",
      "w0    = 0.42 mm\n",
      "Theta = 0.59 milliradians\n",
      "zR    = 718 mm\n",
      "z0    = 780 mm\n"
     ]
    },
    {
     "data": {
      "image/png": "[encoded data removed]",
      "text/plain": [
       "<Figure size 432x288 with 1 Axes>"
      ]
     },
     "metadata": {
      "needs_background": "light"
     },
     "output_type": "display_data"
    },
    {
     "data": {
      "text/plain": [
       "(1.2448788653668057,\n",
       " 0.4242370499114652,\n",
       " 0.0005910648016695309,\n",
       " 779.7262669700982,\n",
       " 717.7504881244132)"
      ]
     },
     "execution_count": 4,
     "metadata": {},
     "output_type": "execute_result"
    }
   ],
   "source": [
    "## Some Examples\n",
    "\n",
    "\n",
    "\n",
    "lambda0 = 632.8/1e6 # mm\n",
    "z = np.array([168, 210, 280, 348, 414, 480, 495, 510, 520, 580, 666, 770])\n",
    "d = np.array([0.5976914 , 0.57246158, 0.54747159, 0.55427816, 0.47916078,\n",
    "       0.40394918, 0.41464084, 0.39929649, 0.3772103 , 0.39076051,\n",
    "       0.32638856, 0.39693297])*2\n",
    "\n",
    "M2_analysis(z,d,lambda0)"
   ]
  }
 ],
 "metadata": {
  "kernelspec": {
   "display_name": "Python 3",
   "language": "python",
   "name": "python3"
  },
  "language_info": {
   "codemirror_mode": {
    "name": "ipython",
    "version": 3
   },
   "file_extension": ".py",
   "mimetype": "text/x-python",
   "name": "python",
   "nbconvert_exporter": "python",
   "pygments_lexer": "ipython3",
   "version": "3.7.6"
  }
 },
 "nbformat": 4,
 "nbformat_minor": 2
}
