{
 "cells": [
  {
   "cell_type": "markdown",
   "metadata": {},
   "source": [
    "nice things to do eventually\n",
    "\n",
    "* finish M$^2$ example\n",
    "* include a transverse laser modes?\n",
    "* improve help by adding a couple of examples\n",
    "\n",
    "release early, release often"
   ]
  },
  {
   "cell_type": "code",
   "execution_count": null,
   "metadata": {
    "collapsed": true
   },
   "outputs": [],
   "source": []
  }
 ],
 "metadata": {
  "kernelspec": {
   "display_name": "Python [default]",
   "language": "python",
   "name": "python3"
  },
  "language_info": {
   "codemirror_mode": {
    "name": "ipython",
    "version": 3
   },
   "file_extension": ".py",
   "mimetype": "text/x-python",
   "name": "python",
   "nbconvert_exporter": "python",
   "pygments_lexer": "ipython3",
   "version": "3.5.2"
  }
 },
 "nbformat": 4,
 "nbformat_minor": 1
}
