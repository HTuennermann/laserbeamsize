{
 "cells": [
  {
   "cell_type": "markdown",
   "metadata": {},
   "source": [
    "# ISO 11146 Beam Size Definitions\n",
    "\n",
    "**Scott Prahl**\n",
    "\n",
    "**March 2020, Version 2**\n",
    "\n",
    "A laser beam will usually consist of a superposition of several modes. A single mode beam radius is easily described by $1/e^2$ points.  This, of course, fails for any beam shape other than Gaussian.  ISO 11146 is intended to provide a simple, consistent way of describing the width of a beam.\n",
    "\n",
    "This notebook summarizes the mathematical definitions."
   ]
  },
  {
   "cell_type": "code",
   "execution_count": 1,
   "metadata": {},
   "outputs": [
    {
     "data": {
      "image/png": "[encoded data removed]",
      "text/plain": [
       "<Figure size 432x432 with 1 Axes>"
      ]
     },
     "metadata": {
      "needs_background": "light"
     },
     "output_type": "display_data"
    }
   ],
   "source": [
    "%matplotlib inline\n",
    "\n",
    "import numpy as np\n",
    "import matplotlib.pyplot as plt\n",
    "\n",
    "import laserbeamsize as lbs\n",
    "lbs.draw_beam_figure()"
   ]
  },
  {
   "cell_type": "markdown",
   "metadata": {},
   "source": [
    "The total power $P$ is obtained by integrating the irradiance $E(x,y)$ over the entire beam\n",
    "$$\n",
    "P = \\int_{-\\infty}^\\infty \\int_{-\\infty}^\\infty  E(x,y)\\,dxdy\n",
    "$$"
   ]
  },
  {
   "cell_type": "markdown",
   "metadata": {},
   "source": [
    "### Center of beam\n",
    "The center of the beam can be found by\n",
    "$$\n",
    "x_c = {1\\over P} \\int_{-\\infty}^\\infty \\int_{-\\infty}^\\infty  x \\cdot E(x,y)\\,dxdy \n",
    "$$\n",
    "and\n",
    "$$\n",
    "y_c = {1\\over P} \\int_{-\\infty}^\\infty \\int_{-\\infty}^\\infty  y \\cdot E(x,y)\\,dxdy\n",
    "$$"
   ]
  },
  {
   "cell_type": "markdown",
   "metadata": {},
   "source": [
    "### Variance\n",
    "\n",
    "A useful parameter characterizing a general two-dimensional distribution $E(x,y)$ is the variance in the $x$ and $y$ directions\n",
    "$$\n",
    "\\sigma_x^2 = {1\\over P} \\int_{-\\infty}^\\infty \\int_{-\\infty}^\\infty  (x-x_c)^2 E(x,y)\\,dxdy\n",
    "$$\n",
    "and\n",
    "$$\n",
    "\\sigma_y^2 = {1\\over P} \\int_{-\\infty}^\\infty \\int_{-\\infty}^\\infty  (y-y_c)^2 E(x,y)\\,dxdy\n",
    "$$\n",
    "and\n",
    "$$\n",
    "\\sigma_{xy}^2 = {1\\over P} \\int_{-\\infty}^\\infty \\int_{-\\infty}^\\infty  (x-x_c)(y-y_c) E(x,y)\\,dxdy\n",
    "$$\n",
    "\n",
    "In general, $\\sigma_x \\ne \\sigma_y$. For example, in semiconductor lasers the height and width of the emitting aperture differ. Such beams are called *astigmatic*. \n",
    "\n",
    "Now, the quantities $\\sigma_x^2$ and $\\sigma_y^2$ will always be positive, but $\\sigma_{xy}^2$ can be negative, zero, or positive."
   ]
  },
  {
   "cell_type": "markdown",
   "metadata": {},
   "source": [
    "### Beam Radius and $D4\\sigma$ or D4sigma\n",
    "For a Gaussian distribution centered at (0,0) with $1/e^2$ radius $w$ we find\n",
    "$$\n",
    "\\sigma_x^2 = \\frac{\\int_{-\\infty}^\\infty \\int_{-\\infty}^\\infty  x^2 e^{-2(x^2+y^2)/w^2}\\,dx\\,dy}{\n",
    "\\int_{-\\infty}^\\infty \\int_{-\\infty}^\\infty e^{-2(x^2+y^2)/w^2}\\,dx\\,dy}\n",
    "=\\frac{w^2}{4}\n",
    "$$\n",
    "\n",
    "This leads to the definition of the beam radius definition as adopted by ISO 11146, \n",
    "$$\n",
    "w_x = 2\\sigma_x \\qquad w_y = 2\\sigma_y\n",
    "$$\n",
    "\n",
    "### $D4\\sigma$ or D4sigma\n",
    "\n",
    "The  $D4\\sigma$  beam diameter is a simple rearrangement of the above equation in which it is noted that\n",
    "twice the radius or the beam diameter is equal to $4\\sigma$\n",
    "$$\n",
    "4\\sigma_x  = 2w_x\n",
    "$$"
   ]
  },
  {
   "cell_type": "markdown",
   "metadata": {},
   "source": [
    "## Relationship to FWHM \n",
    "\n",
    "Sometimes it is the full width at half maximum (FWHM) value that is desired or known.  In general, there is no direct relationship between the $1/e^2$ radius $w$ and the FWHM.  However, in the special case of a Gaussian beam, there is.\n",
    "$$\n",
    "w={ \\mathrm {FWHM}\\over \\sqrt {2\\ln 2}}\n",
    "$$"
   ]
  },
  {
   "cell_type": "markdown",
   "metadata": {},
   "source": [
    "## Major and minor axes of an elliptical beam\n",
    "\n",
    "The $x$-axis diameter $d_x=2w_x$ is given by\n",
    "\n",
    "$$\n",
    "d_x = \\sqrt{8(\\sigma_x^2 + \\sigma_y^2) + 8\\operatorname{sign}(\\sigma_x^2 -\\sigma_y^2) \\sqrt{(\\sigma_x^2 -\\sigma_y^2)^2+4\\sigma_{xy}^4}}\n",
    "$$\n",
    "\n",
    "and similarly $d_y=2w_y$ is \n",
    "\n",
    "$$\n",
    "d_y = \\sqrt{8(\\sigma_x^2 + \\sigma_y^2) - 8\\operatorname{sign}(\\sigma_x^2 -\\sigma_y^2) \\sqrt{(\\sigma_x^2 -\\sigma_y^2)^2+4\\sigma_{xy}^4}}\n",
    "$$\n",
    "\n",
    "except if $\\sigma_x^2=\\sigma_y^2$ in which case \n",
    "\n",
    "$$\n",
    "d_x = \\sqrt{8\\sigma_x^2 + 8\\sigma_y^2 + 16|\\sigma_{xy}^2|}\n",
    "$$\n",
    "\n",
    "and\n",
    "\n",
    "$$\n",
    "d_y = \\sqrt{8\\sigma_x^2 + 8\\sigma_y^2 - 16|\\sigma_{xy}^2|}\n",
    "$$"
   ]
  },
  {
   "cell_type": "markdown",
   "metadata": {},
   "source": [
    "## The tilt angle of the ellipse $\\phi$\n",
    "\n",
    "This is measured as a positive angle counter-clockwise from the $x$-axis (see figure above).\n",
    "$$\n",
    "\\phi =\\frac{1}{2}\\arctan \\frac{2\\sigma_{xy}}{\\sigma_x^2 -\\sigma_y^2}\n",
    "$$\n",
    "\n",
    "where we use `np.arctan2(numerator,denominator)` to avoid division by zero when $\\sigma_x^2=\\sigma_y^2$"
   ]
  },
  {
   "cell_type": "markdown",
   "metadata": {
    "collapsed": true
   },
   "source": [
    "## Ellipticity and Eccentricity\n",
    "\n",
    "The ellipticity $e$ is\n",
    "\n",
    "$$\n",
    "\\varepsilon = \\frac{\\operatorname{min}(dx,dy)}{\\operatorname{max}(dx,dy)}\n",
    "$$\n",
    "\n",
    "and the eccentricity is\n",
    "\n",
    "$$\n",
    "e = \\sqrt{1-\\varepsilon^2}\n",
    "$$"
   ]
  }
 ],
 "metadata": {
  "kernelspec": {
   "display_name": "Python 3",
   "language": "python",
   "name": "python3"
  },
  "language_info": {
   "codemirror_mode": {
    "name": "ipython",
    "version": 3
   },
   "file_extension": ".py",
   "mimetype": "text/x-python",
   "name": "python",
   "nbconvert_exporter": "python",
   "pygments_lexer": "ipython3",
   "version": "3.7.6"
  }
 },
 "nbformat": 4,
 "nbformat_minor": 2
}
