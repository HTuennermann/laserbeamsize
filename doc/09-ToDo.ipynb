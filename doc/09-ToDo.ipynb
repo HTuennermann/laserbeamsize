{
 "cells": [
  {
   "cell_type": "markdown",
   "metadata": {},
   "source": [
    "to release this as a module\n",
    "\n",
    "* figure out a reasonable name for pypi release\n",
    "* rename/weed out functions\n",
    "* add definition of phi\n",
    "* add definition of ellipticity\n",
    "* add d4sigma definitions\n",
    "* *read through to make sure that radius/diameter used properly*\n",
    "* *include a picture showing ISO definitions like eriksson*\n",
    "* *make razor blade doc consistent*\n",
    "* *create a readme*\n",
    "* *remove thomas's images*\n",
    "* *remove half of kelsey's*\n",
    "* *create separate python file*\n",
    "* *make it importable*\n",
    "* *add a bit about background removal and how the 10% threshold is a hack*\n",
    "* *create a .ipynb doc from BeamSize Function.ipynb, lab2.ipynb, and lab3.ipynb*\n",
    "\n",
    "nice things to do eventually\n",
    "\n",
    "* add M2 examples\n",
    "* include a transverse laser modes cell\n",
    "* improve help by adding a couple of examples\n",
    "\n",
    "release early, release often"
   ]
  },
  {
   "cell_type": "code",
   "execution_count": null,
   "metadata": {
    "collapsed": true
   },
   "outputs": [],
   "source": []
  }
 ],
 "metadata": {
  "kernelspec": {
   "display_name": "Python [default]",
   "language": "python",
   "name": "python3"
  },
  "language_info": {
   "codemirror_mode": {
    "name": "ipython",
    "version": 3
   },
   "file_extension": ".py",
   "mimetype": "text/x-python",
   "name": "python",
   "nbconvert_exporter": "python",
   "pygments_lexer": "ipython3",
   "version": "3.5.2"
  }
 },
 "nbformat": 4,
 "nbformat_minor": 1
}
