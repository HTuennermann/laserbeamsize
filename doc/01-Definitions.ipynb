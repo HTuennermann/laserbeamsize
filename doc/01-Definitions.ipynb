{
 "cells": [
  {
   "cell_type": "markdown",
   "metadata": {},
   "source": [
    "# ISO 11146 Beam Size Definitions\n",
    "\n",
    "** Scott Prahl**\n",
    "\n",
    "** 16 Nov 2017, Version 1**"
   ]
  },
  {
   "cell_type": "markdown",
   "metadata": {},
   "source": [
    "# Beam size definitions ISO 11146\n",
    "\n",
    "A laser beam will usually consist of a superposition of several modes. A single mode beam radius is easily described by $1/e^2$ points.  This, of course, fails for any beam shape other than Gaussian.  ISO 11146 is intended to provide a simple, consistent way of describing the width of a bem.\n",
    "\n",
    "The total power $P$ is obtained by integrating the irradiance $E(x,y)$ over the entire beam\n",
    "$$\n",
    "P = \\int_{-\\infty}^\\infty \\int_{-\\infty}^\\infty  E(x,y)\\,dxdy\n",
    "$$"
   ]
  },
  {
   "cell_type": "markdown",
   "metadata": {},
   "source": [
    "## Center of beam\n",
    "The center of the beam can be found by\n",
    "$$\n",
    "x_c = {1\\over P} \\int_{-\\infty}^\\infty \\int_{-\\infty}^\\infty  x \\cdot E(x,y)\\,dxdy \n",
    "$$\n",
    "and\n",
    "$$\n",
    "y_c = {1\\over P} \\int_{-\\infty}^\\infty \\int_{-\\infty}^\\infty  y \\cdot E(x,y)\\,dxdy\n",
    "$$"
   ]
  },
  {
   "cell_type": "markdown",
   "metadata": {},
   "source": [
    "## Variance\n",
    "\n",
    "A useful parameter characterizing a general two-dimensional distribution $E(x,y)$ is the variance in the $x$ and $y$ directions\n",
    "$$\n",
    "\\sigma_x^2 = {1\\over P} \\int_{-\\infty}^\\infty \\int_{-\\infty}^\\infty  (x-x_c)^2 E(x,y)\\,dxdy\n",
    "$$\n",
    "and\n",
    "$$\n",
    "\\sigma_y^2 = {1\\over P} \\int_{-\\infty}^\\infty \\int_{-\\infty}^\\infty  (y-y_c)^2 E(x,y)\\,dxdy\n",
    "$$\n",
    "\n",
    "In general, $\\sigma_x \\ne \\sigma_y$. For example, in semiconductor lasers the height and width of the emitting differ. Such beams are called *astigmatic*. "
   ]
  },
  {
   "cell_type": "markdown",
   "metadata": {},
   "source": [
    "## Beam Radius\n",
    "For a Gaussian distribution centered at (0,0) with $1/e^2$ radius $w$\n",
    "$$\n",
    "\\sigma^2 = {\\int_{-\\infty}^\\infty \\int_{-\\infty}^\\infty  x^2 e^{-2(x^2+y^2)/w^2}\\,dxdy\\over\n",
    "\\int_{-\\infty}^\\infty \\int_{-\\infty}^\\infty  e^{-(x^2+y^2)/w^2}\\,dxdy}\n",
    "={w^2\\over 4}\n",
    "$$\n",
    "and so,\n",
    "$$\n",
    "w = 2\\sigma.\n",
    "$$\n",
    "The beam radius definition adopted by ISO 11146, generalizes this result to\n",
    "$$\n",
    "w_x = 2\\sigma_x \\qquad w_y= 2\\sigma_y\n",
    "$$"
   ]
  },
  {
   "cell_type": "markdown",
   "metadata": {},
   "source": [
    "## $M^2$\n",
    "\n",
    "With this definition of the beam radius it can be shown that for any irradiance distribution the radius as a function of $z$ can be expressed as\n",
    "$$\n",
    "w(z)^2 =w_0^2+\\left({w_0\\over z_R} \\cdot M^2\\right)^2 (z-z_0)^2\n",
    "$$\n",
    "while for the beam divergence we get \n",
    "$$\n",
    "\\theta={w_0\\over z_R}\\cdot M^2 \n",
    "$$\n",
    "\n",
    "A Gaussian beam has $M=1$, while all other beams will have $M>1$. For a given beam radius the Gaussian beam has the smallest possible beam divergence, and for a given beam divergence the Gaussian beam has the smallest possible beam radius. \n",
    "\n",
    "The number $M^2$ is referred to as the beam propagation factor. We find that the multimode beam has a beam waist which is $M^2$ times larger than a fundamental Gaussian beam with the same beam divergence, or a beam divergence which is $M^2$ times larger than that of a fundamental Gaussian beam with the same beam waist."
   ]
  },
  {
   "cell_type": "code",
   "execution_count": null,
   "metadata": {
    "collapsed": true
   },
   "outputs": [],
   "source": []
  }
 ],
 "metadata": {
  "kernelspec": {
   "display_name": "Python [default]",
   "language": "python",
   "name": "python3"
  },
  "language_info": {
   "codemirror_mode": {
    "name": "ipython",
    "version": 3
   },
   "file_extension": ".py",
   "mimetype": "text/x-python",
   "name": "python",
   "nbconvert_exporter": "python",
   "pygments_lexer": "ipython3",
   "version": "3.5.2"
  }
 },
 "nbformat": 4,
 "nbformat_minor": 2
}
